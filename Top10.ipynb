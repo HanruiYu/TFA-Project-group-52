{
 "cells": [
  {
   "cell_type": "code",
   "execution_count": 1,
   "id": "8611a6bd",
   "metadata": {},
   "outputs": [],
   "source": [
    "import pandas as pd\n",
    "import numpy as np\n",
    "import csv"
   ]
  },
  {
   "cell_type": "code",
   "execution_count": 2,
   "id": "d2659bca",
   "metadata": {},
   "outputs": [
    {
     "name": "stderr",
     "output_type": "stream",
     "text": [
      "/Users/mikeyu/opt/anaconda3/lib/python3.8/site-packages/IPython/core/interactiveshell.py:3437: DtypeWarning: Columns (20,31,32) have mixed types.Specify dtype option on import or set low_memory=False.\n",
      "  exec(code_obj, self.user_global_ns, self.user_ns)\n"
     ]
    }
   ],
   "source": [
    "#read data\n",
    "df = pd.read_csv(\"311_Service_Requests_2020.csv\")"
   ]
  },
  {
   "cell_type": "code",
   "execution_count": 3,
   "id": "7db7af8b",
   "metadata": {},
   "outputs": [],
   "source": [
    "# We choose 10038 as our zipcode for this project\n",
    "df_1 = df[df[\"Incident Zip\"] == 10038.0]"
   ]
  },
  {
   "cell_type": "code",
   "execution_count": 4,
   "id": "634fa301",
   "metadata": {},
   "outputs": [
    {
     "name": "stderr",
     "output_type": "stream",
     "text": [
      "<ipython-input-4-185e4747505e>:7: SettingWithCopyWarning: \n",
      "A value is trying to be set on a copy of a slice from a DataFrame.\n",
      "Try using .loc[row_indexer,col_indexer] = value instead\n",
      "\n",
      "See the caveats in the documentation: https://pandas.pydata.org/pandas-docs/stable/user_guide/indexing.html#returning-a-view-versus-a-copy\n",
      "  df_1[\"Created Year\"] = df_1[\"Created Date\"].apply(get_year)\n"
     ]
    }
   ],
   "source": [
    "#Filter out complaints created in year 2020 only\n",
    "def get_year(x):\n",
    "    from datetime import datetime \n",
    "    format = '%m/%d/%Y %I:%M:%S %p'\n",
    "    date_time_x = datetime.strptime(x, format)\n",
    "    return date_time_x.year\n",
    "df_1[\"Created Year\"] = df_1[\"Created Date\"].apply(get_year)\n",
    "df_2020 = df_1[df_1[\"Created Year\"] == 2020]"
   ]
  },
  {
   "cell_type": "code",
   "execution_count": 5,
   "id": "133d46ae",
   "metadata": {},
   "outputs": [
    {
     "data": {
      "text/plain": [
       "Complaint Type\n",
       "Noise                                  492\n",
       "Noise - Residential                    474\n",
       "Panhandling                            436\n",
       "Homeless Person Assistance             408\n",
       "Noise - Street/Sidewalk                360\n",
       "Illegal Parking                        347\n",
       "Non-Emergency Police Matter            266\n",
       "Homeless Street Condition              258\n",
       "NonCompliance with Phased Reopening    207\n",
       "Consumer Complaint                     184\n",
       "dtype: int64"
      ]
     },
     "execution_count": 5,
     "metadata": {},
     "output_type": "execute_result"
    }
   ],
   "source": [
    "#Final output for 10 most complaint type under zipcode 10038 in year 2020 \n",
    "Top_10 = df_2020.groupby(\"Complaint Type\").size().sort_values(ascending = False)[:10]\n",
    "Top_10"
   ]
  }
 ],
 "metadata": {
  "kernelspec": {
   "display_name": "Python 3",
   "language": "python",
   "name": "python3"
  },
  "language_info": {
   "codemirror_mode": {
    "name": "ipython",
    "version": 3
   },
   "file_extension": ".py",
   "mimetype": "text/x-python",
   "name": "python",
   "nbconvert_exporter": "python",
   "pygments_lexer": "ipython3",
   "version": "3.8.8"
  }
 },
 "nbformat": 4,
 "nbformat_minor": 5
}
